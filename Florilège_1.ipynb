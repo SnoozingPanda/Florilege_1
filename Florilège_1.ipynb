{
  "nbformat": 4,
  "nbformat_minor": 0,
  "metadata": {
    "colab": {
      "provenance": [],
      "collapsed_sections": [
        "815_otfHPX5a",
        "JnOBqXLAHJju",
        "A8ee8Jvy-pcL",
        "3k1iqC3wffyB",
        "To2TYJGuPwc-"
      ]
    },
    "kernelspec": {
      "name": "python3",
      "display_name": "Python 3"
    }
  },
  "cells": [
    {
      "cell_type": "markdown",
      "metadata": {
        "id": "815_otfHPX5a"
      },
      "source": [
        "#SQL"
      ]
    },
    {
      "cell_type": "markdown",
      "metadata": {
        "id": "b2l_0IGPQgpp"
      },
      "source": [
        "A partir de la base de données client ci-dessous, créer une **requête SQL** qui fournit :\n",
        "\n",
        "1.   les noms de chaque catégorie,\n",
        "2.   le chiffre d'affaire associé à cette catégorie,\n",
        "3.   et le prix moyen pondéré des produits vendus pour cette catégorie.\n",
        "\n",
        "Le chiffre d'affaire sera arrondi à l'unité la plus proche, et le prix moyen comportera 2 décimales.\n",
        "\n",
        "Ce tableau devra être trié pour avoir les catégories avec le chiffre d'affaire le plus élevé en premier.\n",
        "\n",
        "\n",
        "*** Voici le schéma de la base ***\n",
        "*********************\n",
        "\n",
        "![](https://github.com/murpi/wilddata/blob/master/quests/orders_schema.png?raw=true)\n",
        "\n",
        "\n",
        "\n",
        "\n",
        "*** Voici les premières lignes attendues ***\n",
        "*********************\n",
        "\n",
        "Categories | Chiffre_d_affaire | Prix_moyen\n",
        "- |:-: | -:\n",
        "Beverages | 99465 | 43.45\n",
        "Dairy Products | 69921 | 26.88\n",
        "... | ... | ...\n"
      ]
    },
    {
      "cell_type": "code",
      "metadata": {
        "id": "bRd5eTTlPZIZ"
      },
      "source": [
        "import requests\n",
        "import sqlite3\n",
        "import pandas as pd\n",
        "r = requests.get('https://github.com/murpi/wilddata/blob/master/quests/orders.db?raw=true')\n",
        "open('orders.db', 'wb').write(r.content)\n",
        "conn = sqlite3.connect('orders.db')\n",
        "def SQL(script):\n",
        "    global conn\n",
        "    return pd.read_sql(script, conn)"
      ],
      "execution_count": null,
      "outputs": []
    },
    {
      "cell_type": "code",
      "metadata": {
        "id": "HMJ538LwOqWK",
        "colab": {
          "base_uri": "https://localhost:8080/",
          "height": 300
        },
        "outputId": "d28593b9-ed79-4137-8b83-bd5bfb21e589"
      },
      "source": [
        "script_sql = \"\"\"\n",
        "SELECT categoryName, ROUND(SUM(quantity * price), - 1) AS total_CA, ROUND(SUM(quantity * price) / SUM(quantity), 2) AS moyenne\n",
        "FROM categories\n",
        "LEFT JOIN products ON categories.categoryID = products.categoryID\n",
        "LEFT JOIN order_details ON products.productID = order_details.productID\n",
        "GROUP BY categoryName\n",
        "ORDER BY total_CA DESC;\n",
        "\n",
        "\"\"\"\n",
        "\n",
        "\n",
        "# Ne modifie rien ci-dessous pour obtenir le résultat de la requête\n",
        "SQL(script_sql)"
      ],
      "execution_count": null,
      "outputs": [
        {
          "output_type": "execute_result",
          "data": {
            "text/plain": [
              "     CategoryName  total_CA  moyenne\n",
              "0       Beverages   99465.0    43.45\n",
              "1  Dairy Products   69921.0    26.88\n",
              "2     Confections   54909.0    26.02\n",
              "3    Meat/Poultry   51677.0    40.12\n",
              "4      Condiments   35072.0    25.36\n",
              "5         Seafood   29652.0    20.52\n",
              "6         Produce   23401.0    32.73\n",
              "7  Grains/Cereals   22328.0    24.48"
            ],
            "text/html": [
              "\n",
              "  <div id=\"df-0a7f5548-efe8-4956-ab52-ec1161a0316c\" class=\"colab-df-container\">\n",
              "    <div>\n",
              "<style scoped>\n",
              "    .dataframe tbody tr th:only-of-type {\n",
              "        vertical-align: middle;\n",
              "    }\n",
              "\n",
              "    .dataframe tbody tr th {\n",
              "        vertical-align: top;\n",
              "    }\n",
              "\n",
              "    .dataframe thead th {\n",
              "        text-align: right;\n",
              "    }\n",
              "</style>\n",
              "<table border=\"1\" class=\"dataframe\">\n",
              "  <thead>\n",
              "    <tr style=\"text-align: right;\">\n",
              "      <th></th>\n",
              "      <th>CategoryName</th>\n",
              "      <th>total_CA</th>\n",
              "      <th>moyenne</th>\n",
              "    </tr>\n",
              "  </thead>\n",
              "  <tbody>\n",
              "    <tr>\n",
              "      <th>0</th>\n",
              "      <td>Beverages</td>\n",
              "      <td>99465.0</td>\n",
              "      <td>43.45</td>\n",
              "    </tr>\n",
              "    <tr>\n",
              "      <th>1</th>\n",
              "      <td>Dairy Products</td>\n",
              "      <td>69921.0</td>\n",
              "      <td>26.88</td>\n",
              "    </tr>\n",
              "    <tr>\n",
              "      <th>2</th>\n",
              "      <td>Confections</td>\n",
              "      <td>54909.0</td>\n",
              "      <td>26.02</td>\n",
              "    </tr>\n",
              "    <tr>\n",
              "      <th>3</th>\n",
              "      <td>Meat/Poultry</td>\n",
              "      <td>51677.0</td>\n",
              "      <td>40.12</td>\n",
              "    </tr>\n",
              "    <tr>\n",
              "      <th>4</th>\n",
              "      <td>Condiments</td>\n",
              "      <td>35072.0</td>\n",
              "      <td>25.36</td>\n",
              "    </tr>\n",
              "    <tr>\n",
              "      <th>5</th>\n",
              "      <td>Seafood</td>\n",
              "      <td>29652.0</td>\n",
              "      <td>20.52</td>\n",
              "    </tr>\n",
              "    <tr>\n",
              "      <th>6</th>\n",
              "      <td>Produce</td>\n",
              "      <td>23401.0</td>\n",
              "      <td>32.73</td>\n",
              "    </tr>\n",
              "    <tr>\n",
              "      <th>7</th>\n",
              "      <td>Grains/Cereals</td>\n",
              "      <td>22328.0</td>\n",
              "      <td>24.48</td>\n",
              "    </tr>\n",
              "  </tbody>\n",
              "</table>\n",
              "</div>\n",
              "    <div class=\"colab-df-buttons\">\n",
              "\n",
              "  <div class=\"colab-df-container\">\n",
              "    <button class=\"colab-df-convert\" onclick=\"convertToInteractive('df-0a7f5548-efe8-4956-ab52-ec1161a0316c')\"\n",
              "            title=\"Convert this dataframe to an interactive table.\"\n",
              "            style=\"display:none;\">\n",
              "\n",
              "  <svg xmlns=\"http://www.w3.org/2000/svg\" height=\"24px\" viewBox=\"0 -960 960 960\">\n",
              "    <path d=\"M120-120v-720h720v720H120Zm60-500h600v-160H180v160Zm220 220h160v-160H400v160Zm0 220h160v-160H400v160ZM180-400h160v-160H180v160Zm440 0h160v-160H620v160ZM180-180h160v-160H180v160Zm440 0h160v-160H620v160Z\"/>\n",
              "  </svg>\n",
              "    </button>\n",
              "\n",
              "  <style>\n",
              "    .colab-df-container {\n",
              "      display:flex;\n",
              "      gap: 12px;\n",
              "    }\n",
              "\n",
              "    .colab-df-convert {\n",
              "      background-color: #E8F0FE;\n",
              "      border: none;\n",
              "      border-radius: 50%;\n",
              "      cursor: pointer;\n",
              "      display: none;\n",
              "      fill: #1967D2;\n",
              "      height: 32px;\n",
              "      padding: 0 0 0 0;\n",
              "      width: 32px;\n",
              "    }\n",
              "\n",
              "    .colab-df-convert:hover {\n",
              "      background-color: #E2EBFA;\n",
              "      box-shadow: 0px 1px 2px rgba(60, 64, 67, 0.3), 0px 1px 3px 1px rgba(60, 64, 67, 0.15);\n",
              "      fill: #174EA6;\n",
              "    }\n",
              "\n",
              "    .colab-df-buttons div {\n",
              "      margin-bottom: 4px;\n",
              "    }\n",
              "\n",
              "    [theme=dark] .colab-df-convert {\n",
              "      background-color: #3B4455;\n",
              "      fill: #D2E3FC;\n",
              "    }\n",
              "\n",
              "    [theme=dark] .colab-df-convert:hover {\n",
              "      background-color: #434B5C;\n",
              "      box-shadow: 0px 1px 3px 1px rgba(0, 0, 0, 0.15);\n",
              "      filter: drop-shadow(0px 1px 2px rgba(0, 0, 0, 0.3));\n",
              "      fill: #FFFFFF;\n",
              "    }\n",
              "  </style>\n",
              "\n",
              "    <script>\n",
              "      const buttonEl =\n",
              "        document.querySelector('#df-0a7f5548-efe8-4956-ab52-ec1161a0316c button.colab-df-convert');\n",
              "      buttonEl.style.display =\n",
              "        google.colab.kernel.accessAllowed ? 'block' : 'none';\n",
              "\n",
              "      async function convertToInteractive(key) {\n",
              "        const element = document.querySelector('#df-0a7f5548-efe8-4956-ab52-ec1161a0316c');\n",
              "        const dataTable =\n",
              "          await google.colab.kernel.invokeFunction('convertToInteractive',\n",
              "                                                    [key], {});\n",
              "        if (!dataTable) return;\n",
              "\n",
              "        const docLinkHtml = 'Like what you see? Visit the ' +\n",
              "          '<a target=\"_blank\" href=https://colab.research.google.com/notebooks/data_table.ipynb>data table notebook</a>'\n",
              "          + ' to learn more about interactive tables.';\n",
              "        element.innerHTML = '';\n",
              "        dataTable['output_type'] = 'display_data';\n",
              "        await google.colab.output.renderOutput(dataTable, element);\n",
              "        const docLink = document.createElement('div');\n",
              "        docLink.innerHTML = docLinkHtml;\n",
              "        element.appendChild(docLink);\n",
              "      }\n",
              "    </script>\n",
              "  </div>\n",
              "\n",
              "\n",
              "<div id=\"df-1ee2d784-e7db-43ba-b092-f48d8cbc7d4e\">\n",
              "  <button class=\"colab-df-quickchart\" onclick=\"quickchart('df-1ee2d784-e7db-43ba-b092-f48d8cbc7d4e')\"\n",
              "            title=\"Suggest charts\"\n",
              "            style=\"display:none;\">\n",
              "\n",
              "<svg xmlns=\"http://www.w3.org/2000/svg\" height=\"24px\"viewBox=\"0 0 24 24\"\n",
              "     width=\"24px\">\n",
              "    <g>\n",
              "        <path d=\"M19 3H5c-1.1 0-2 .9-2 2v14c0 1.1.9 2 2 2h14c1.1 0 2-.9 2-2V5c0-1.1-.9-2-2-2zM9 17H7v-7h2v7zm4 0h-2V7h2v10zm4 0h-2v-4h2v4z\"/>\n",
              "    </g>\n",
              "</svg>\n",
              "  </button>\n",
              "\n",
              "<style>\n",
              "  .colab-df-quickchart {\n",
              "      --bg-color: #E8F0FE;\n",
              "      --fill-color: #1967D2;\n",
              "      --hover-bg-color: #E2EBFA;\n",
              "      --hover-fill-color: #174EA6;\n",
              "      --disabled-fill-color: #AAA;\n",
              "      --disabled-bg-color: #DDD;\n",
              "  }\n",
              "\n",
              "  [theme=dark] .colab-df-quickchart {\n",
              "      --bg-color: #3B4455;\n",
              "      --fill-color: #D2E3FC;\n",
              "      --hover-bg-color: #434B5C;\n",
              "      --hover-fill-color: #FFFFFF;\n",
              "      --disabled-bg-color: #3B4455;\n",
              "      --disabled-fill-color: #666;\n",
              "  }\n",
              "\n",
              "  .colab-df-quickchart {\n",
              "    background-color: var(--bg-color);\n",
              "    border: none;\n",
              "    border-radius: 50%;\n",
              "    cursor: pointer;\n",
              "    display: none;\n",
              "    fill: var(--fill-color);\n",
              "    height: 32px;\n",
              "    padding: 0;\n",
              "    width: 32px;\n",
              "  }\n",
              "\n",
              "  .colab-df-quickchart:hover {\n",
              "    background-color: var(--hover-bg-color);\n",
              "    box-shadow: 0 1px 2px rgba(60, 64, 67, 0.3), 0 1px 3px 1px rgba(60, 64, 67, 0.15);\n",
              "    fill: var(--button-hover-fill-color);\n",
              "  }\n",
              "\n",
              "  .colab-df-quickchart-complete:disabled,\n",
              "  .colab-df-quickchart-complete:disabled:hover {\n",
              "    background-color: var(--disabled-bg-color);\n",
              "    fill: var(--disabled-fill-color);\n",
              "    box-shadow: none;\n",
              "  }\n",
              "\n",
              "  .colab-df-spinner {\n",
              "    border: 2px solid var(--fill-color);\n",
              "    border-color: transparent;\n",
              "    border-bottom-color: var(--fill-color);\n",
              "    animation:\n",
              "      spin 1s steps(1) infinite;\n",
              "  }\n",
              "\n",
              "  @keyframes spin {\n",
              "    0% {\n",
              "      border-color: transparent;\n",
              "      border-bottom-color: var(--fill-color);\n",
              "      border-left-color: var(--fill-color);\n",
              "    }\n",
              "    20% {\n",
              "      border-color: transparent;\n",
              "      border-left-color: var(--fill-color);\n",
              "      border-top-color: var(--fill-color);\n",
              "    }\n",
              "    30% {\n",
              "      border-color: transparent;\n",
              "      border-left-color: var(--fill-color);\n",
              "      border-top-color: var(--fill-color);\n",
              "      border-right-color: var(--fill-color);\n",
              "    }\n",
              "    40% {\n",
              "      border-color: transparent;\n",
              "      border-right-color: var(--fill-color);\n",
              "      border-top-color: var(--fill-color);\n",
              "    }\n",
              "    60% {\n",
              "      border-color: transparent;\n",
              "      border-right-color: var(--fill-color);\n",
              "    }\n",
              "    80% {\n",
              "      border-color: transparent;\n",
              "      border-right-color: var(--fill-color);\n",
              "      border-bottom-color: var(--fill-color);\n",
              "    }\n",
              "    90% {\n",
              "      border-color: transparent;\n",
              "      border-bottom-color: var(--fill-color);\n",
              "    }\n",
              "  }\n",
              "</style>\n",
              "\n",
              "  <script>\n",
              "    async function quickchart(key) {\n",
              "      const quickchartButtonEl =\n",
              "        document.querySelector('#' + key + ' button');\n",
              "      quickchartButtonEl.disabled = true;  // To prevent multiple clicks.\n",
              "      quickchartButtonEl.classList.add('colab-df-spinner');\n",
              "      try {\n",
              "        const charts = await google.colab.kernel.invokeFunction(\n",
              "            'suggestCharts', [key], {});\n",
              "      } catch (error) {\n",
              "        console.error('Error during call to suggestCharts:', error);\n",
              "      }\n",
              "      quickchartButtonEl.classList.remove('colab-df-spinner');\n",
              "      quickchartButtonEl.classList.add('colab-df-quickchart-complete');\n",
              "    }\n",
              "    (() => {\n",
              "      let quickchartButtonEl =\n",
              "        document.querySelector('#df-1ee2d784-e7db-43ba-b092-f48d8cbc7d4e button');\n",
              "      quickchartButtonEl.style.display =\n",
              "        google.colab.kernel.accessAllowed ? 'block' : 'none';\n",
              "    })();\n",
              "  </script>\n",
              "</div>\n",
              "    </div>\n",
              "  </div>\n"
            ],
            "application/vnd.google.colaboratory.intrinsic+json": {
              "type": "dataframe",
              "summary": "{\n  \"name\": \"SQL(script_sql)\",\n  \"rows\": 8,\n  \"fields\": [\n    {\n      \"column\": \"CategoryName\",\n      \"properties\": {\n        \"dtype\": \"string\",\n        \"num_unique_values\": 8,\n        \"samples\": [\n          \"Dairy Products\",\n          \"Seafood\",\n          \"Beverages\"\n        ],\n        \"semantic_type\": \"\",\n        \"description\": \"\"\n      }\n    },\n    {\n      \"column\": \"total_CA\",\n      \"properties\": {\n        \"dtype\": \"number\",\n        \"std\": 26612.67332594701,\n        \"min\": 22328.0,\n        \"max\": 99465.0,\n        \"num_unique_values\": 8,\n        \"samples\": [\n          69921.0,\n          29652.0,\n          99465.0\n        ],\n        \"semantic_type\": \"\",\n        \"description\": \"\"\n      }\n    },\n    {\n      \"column\": \"moyenne\",\n      \"properties\": {\n        \"dtype\": \"number\",\n        \"std\": 8.09047764791601,\n        \"min\": 20.52,\n        \"max\": 43.45,\n        \"num_unique_values\": 8,\n        \"samples\": [\n          26.88,\n          20.52,\n          43.45\n        ],\n        \"semantic_type\": \"\",\n        \"description\": \"\"\n      }\n    }\n  ]\n}"
            }
          },
          "metadata": {},
          "execution_count": 119
        }
      ]
    },
    {
      "cell_type": "markdown",
      "metadata": {
        "id": "JnOBqXLAHJju"
      },
      "source": [
        "# Tableur"
      ]
    },
    {
      "cell_type": "markdown",
      "metadata": {
        "id": "i-astmsSHLGn"
      },
      "source": [
        "Le responsable du reporting mensuel est absent, et il faut absolument envoyer le reporting de chiffre d'affaire (quantité * prix de chaque produit) aujourd'hui... mais impossible de remettre la main sur le fichier du mois dernier !\n",
        "\n",
        "Heureusement, tu as trouvé comment extraire les données, [tu les trouveras ici.](https://docs.google.com/spreadsheets/d/1T7zh6Swn4Yj8Feu-xcp-B7xeOQfBoBSWn7sRjx07GvI/edit?usp=sharing)\n",
        "\n",
        "Tu vas maintenant devoir recréer un graphique qui ressemblera au maximum à celui-ci, mais en incluant les données du dernier mois. Tu en profiteras pour ajouter l'affichage des mois sous les colonnes. Tu essaieras au maximum d'utiliser les tableaux croisés dynamiques pour faire ça.\n",
        "\n",
        "Tu incluras l'image du graphique dans ce notebook, et tu indiqueras également le lien de ton google spreadsheet (ou MS Excel online) que tu auras pris soin de partager.\n",
        "\n",
        "![Tableur checkpoint](https://github.com/murpi/wilddata/raw/master/checkpoint1_withoutdate.png)"
      ]
    },
    {
      "cell_type": "markdown",
      "source": [
        "![Sylvain_Checkpoint_GoogleSheet.png](\n",
        "  \n",
        ")"
      ],
      "metadata": {
        "id": "RjZJDIa_s68_"
      }
    },
    {
      "cell_type": "markdown",
      "source": [
        "https://docs.google.com/spreadsheets/d/1TOfJpB6Deca4G1DMWO--DAj7DBAQkVyfxk4mStzmj8k/edit?usp=sharing"
      ],
      "metadata": {
        "id": "R09lG6gPs6Y5"
      }
    },
    {
      "cell_type": "markdown",
      "source": [
        "# Python : Algo 1\n",
        "\n",
        "Tu veux créer un script qui te dit comment t'habiller en fonction de la météo du jour :\n"
      ],
      "metadata": {
        "id": "A8ee8Jvy-pcL"
      }
    },
    {
      "cell_type": "markdown",
      "source": [
        "## 1.1 Température\n",
        "* S'il fait strictement plus de 19 degrés,  le script doit afficher \"Prends un t-shirt\"\n",
        "* S'il fait entre 12 et 19 degrés inclus, le script doit afficher \"Prends un pull\"\n",
        "* S'il fait strictement moins de 12 degrés, le script doit afficher \"Prends un manteau\"\n",
        "\n",
        "La variable température contiendra un nombre entier (nous avons mis `14` par défaut, n'hésite pas à modifier cette valeur pour tester)"
      ],
      "metadata": {
        "id": "VQLNdU9xG059"
      }
    },
    {
      "cell_type": "code",
      "source": [
        "temperature = int(input())\n",
        "if temperature > 19:\n",
        "  print(\"Prends un T-Shirt\")\n",
        "elif 12 < temperature < 19:\n",
        "  print(\"Prends un pull\")\n",
        "elif temperature < 12:\n",
        "  print(\"Prends un manteau\")\n",
        "\n",
        "\n",
        "\n"
      ],
      "metadata": {
        "id": "SV3jcaE5-srQ",
        "colab": {
          "base_uri": "https://localhost:8080/"
        },
        "outputId": "049e2301-fc50-49ab-e433-def29fecab8f"
      },
      "execution_count": null,
      "outputs": [
        {
          "output_type": "stream",
          "name": "stdout",
          "text": [
            "14\n",
            "Prends un pull\n"
          ]
        }
      ]
    },
    {
      "cell_type": "markdown",
      "source": [
        "## 1.2 Pluie\n",
        "\n",
        "Tu va recopier ton script de la question précédente (1.1) et le modifier pour intégrer la contrainte suivante :\n",
        "* Si la variable `pluie` vaut \"YES\", alors le script affiche \"Prends un manteau\", quelle que soit la température."
      ],
      "metadata": {
        "id": "KSt8QDbJHAqm"
      }
    },
    {
      "cell_type": "code",
      "source": [
        "temperature = int(input())\n",
        "pluie = input()\n",
        "if (pluie == \"yes\" or pluie == \"YES\") or temperature < 12:\n",
        "  print(\"Prends un manteau\")\n",
        "elif temperature > 19 and (pluie != \"yes\" or pluie != \"YES\"):\n",
        "  print(\"Prends un T-Shirt\")\n",
        "elif 12 < temperature < 19 and (pluie != \"yes\" or pluie != \"YES\"):\n",
        "  print(\"Prends un pull\")\n",
        "\n"
      ],
      "metadata": {
        "id": "-7V4KUCxFT3j",
        "colab": {
          "base_uri": "https://localhost:8080/"
        },
        "outputId": "b4b27192-161a-4e96-f7b7-58a8812dc7fb"
      },
      "execution_count": null,
      "outputs": [
        {
          "output_type": "stream",
          "name": "stdout",
          "text": [
            "14\n",
            "no\n",
            "Prends un pull\n"
          ]
        }
      ]
    },
    {
      "cell_type": "markdown",
      "source": [
        "## 1.3 Opérateurs logique\n",
        "\n",
        "Essaye d'écrire le script précédent (1.2) en utilisant au maximum une seule fois la commande `if` et au maximum une seule fois la commande `elif`."
      ],
      "metadata": {
        "id": "l_f-r5WFH_Xl"
      }
    },
    {
      "cell_type": "code",
      "source": [
        "temperature = int(input())\n",
        "pluie = input()\n",
        "if (pluie == \"yes\" or pluie == \"YES\") or temperature < 12:\n",
        "  print(\"Prends un manteau\")\n",
        "elif temperature > 19 and (pluie != \"yes\" or pluie != \"YES\"):\n",
        "  print(\"Prends un T-Shirt\")\n",
        "else:\n",
        "  print(\"Prends un pull\")\n",
        "\n"
      ],
      "metadata": {
        "id": "ztf9BPu1Ibod",
        "colab": {
          "base_uri": "https://localhost:8080/"
        },
        "outputId": "04acfe1d-b6f0-4844-eb0c-4dfe14d236a2"
      },
      "execution_count": null,
      "outputs": [
        {
          "output_type": "stream",
          "name": "stdout",
          "text": [
            "14\n",
            "no\n",
            "Prends un pull\n"
          ]
        }
      ]
    },
    {
      "cell_type": "markdown",
      "metadata": {
        "id": "3k1iqC3wffyB"
      },
      "source": [
        "# Python : Algo 2\n",
        "\n",
        "Un magasin importe des produits américains et les revend sur le marché européen. Il propose à ses clients un discount pour les produits les plus chers (10% de réduction à partir de 500 euros d'achat, 15% à partir de 1000 euros, et 20% à partir de 2000 euros).\n",
        "\n",
        "Le magasin a une liste de prix en dollars et fait appel à tes services pour déterminer pour chaque prix, le montant que paiera le client en euros (après application de la remise).\n"
      ]
    },
    {
      "cell_type": "code",
      "source": [
        "def ristourne(achat):\n",
        "  if 500 < achat < 1000:\n",
        "    prix_a_payer = achat - (achat * (10/100))\n",
        "    print(f\"Le client bénéficie d'une réduction de 10 % et devra payer {prix_a_payer} €\")\n",
        "  elif 1000 < achat < 2000:\n",
        "    prix_a_payer = achat - (achat * (15/100))\n",
        "    print(f\"Le client bénéficie d'une réduction de 15 % et devra payer {prix_a_payer} €\")\n",
        "  elif 2000 < achat:\n",
        "    prix_a_payer = achat - (achat * (20/100))\n",
        "    print(f\"Le client bénéfiie d'une réduction de 20 % et devra payer {prix_a_payer} €\")\n",
        "  else:\n",
        "    print(\"Le client ne bénéficie pas d'une réduction\")\n",
        "\n",
        "achat = int(input())\n",
        "reduction = ristourne(achat)\n",
        "print(ristourne)"
      ],
      "metadata": {
        "colab": {
          "base_uri": "https://localhost:8080/"
        },
        "id": "j7dvl3rjVRkm",
        "outputId": "0b82a453-c826-4c24-e1d0-022c5df55eb2"
      },
      "execution_count": 10,
      "outputs": [
        {
          "output_type": "stream",
          "name": "stdout",
          "text": [
            "725\n",
            "Le client bénéficie d'une réduction de 10 % et devra payer 652.5 €\n",
            "<function ristourne at 0x7fc53f7c1f30>\n"
          ]
        }
      ]
    },
    {
      "cell_type": "markdown",
      "metadata": {
        "id": "YWW9llTJhEMT"
      },
      "source": [
        "## Python 2.1 dollar_to_euro\n",
        "Crée une fonction `dollar_to_euro` qui prend en paramètre un nombre décimal et retourne le montant converti en euro (dans le sens dollar vers euro, prends le taux en vigueur le jour du checkpoint)."
      ]
    },
    {
      "cell_type": "code",
      "metadata": {
        "id": "dQeMAFaahD81",
        "colab": {
          "base_uri": "https://localhost:8080/"
        },
        "outputId": "ccf8c6dc-cf9d-438d-d9b7-8b9ce4ab4e4b"
      },
      "source": [
        "def dollar_to_euros(number):\n",
        "  taux_de_change = 0.93\n",
        "  conversion = number * taux_de_change\n",
        "  return conversion\n",
        "\n",
        "number = float(input())\n",
        "result = dollar_to_euros(number)\n",
        "print(result)"
      ],
      "execution_count": 9,
      "outputs": [
        {
          "output_type": "stream",
          "name": "stdout",
          "text": [
            "122.32\n",
            "113.7576\n"
          ]
        }
      ]
    },
    {
      "cell_type": "markdown",
      "metadata": {
        "id": "GP0WRUWskAxN"
      },
      "source": [
        "## Python 2.2 discount\n",
        "Crée une fonction `discount` qui prend en paramètre un nombre décimal et retourne le pourcentage de réduction :\n",
        "- 0.10 si l'argument est supérieur à 500\n",
        "- 0.15 si l'argument est supérieur à 1000\n",
        "- 0.20 si l'argument est supérieur à 2000"
      ]
    },
    {
      "cell_type": "code",
      "metadata": {
        "id": "54K2IrDrj_p-",
        "colab": {
          "base_uri": "https://localhost:8080/"
        },
        "outputId": "7d380e30-0e93-4de8-a7b3-bf8a8ba32dc9"
      },
      "source": [
        "def discount(achat):\n",
        "  if 500 < achat < 1000:\n",
        "    reduction = 10/100\n",
        "    return reduction\n",
        "  elif 1000 < achat < 2000:\n",
        "    reduction = 15/100\n",
        "    return reduction\n",
        "  elif 2000 < achat:\n",
        "    reduction = 20/100\n",
        "    return reduction\n",
        "  else:\n",
        "    return 0.00\n",
        "\n",
        "achat = float(input())\n",
        "reduction = int(discount(achat) * 100)\n",
        "print(f\"{reduction} %\")\n"
      ],
      "execution_count": 18,
      "outputs": [
        {
          "output_type": "stream",
          "name": "stdout",
          "text": [
            "725\n",
            "10 %\n"
          ]
        }
      ]
    },
    {
      "cell_type": "markdown",
      "metadata": {
        "id": "2UDkCCsOkkfI"
      },
      "source": [
        "## Python 2.3 Utilisation\n",
        "Utilise tes deux fonctions pour **afficher une phrase** pour chacun des montants de cette liste de prix en dollars, indiquant le montant à payer en euros.\n",
        "Tu dois donc appliquer d'abord la fonction de conversion pour obtenir des euros, puis la fonction de discount, puis afficher une phrase à partir du résultat."
      ]
    },
    {
      "cell_type": "code",
      "metadata": {
        "id": "zJwtL9H_kxXR",
        "colab": {
          "base_uri": "https://localhost:8080/"
        },
        "outputId": "c3272d99-37bb-45cd-c36b-d76efb252b57"
      },
      "source": [
        "price_list = [256, 1458, 2387, 669, 508, 1365]\n",
        "\n",
        "for i in price_list:\n",
        "  #final_list = []\n",
        "  dollar = float(i)\n",
        "  montant_en_euros = dollar_to_euros(dollar)\n",
        "  reduction = discount(montant_en_euros) * 100\n",
        "  prix_final = round(montant_en_euros * (1 - reduction), 2)\n",
        "  #final_list.append(round(prix_final))\n",
        "  print(f\"{i} dollars nous donnent {prix_final} euros après une réduction de {reduction} %\")\n",
        "\n"
      ],
      "execution_count": 15,
      "outputs": [
        {
          "output_type": "stream",
          "name": "stdout",
          "text": [
            "256 dollars nous donnent 238.08 euros après une réduction de 0.0 %\n",
            "1458 dollars nous donnent -18983.16 euros après une réduction de 15.0 %\n",
            "2387 dollars nous donnent -42178.29 euros après une réduction de 20.0 %\n",
            "669 dollars nous donnent -5599.53 euros après une réduction de 10.0 %\n",
            "508 dollars nous donnent 472.44 euros après une réduction de 0.0 %\n",
            "1365 dollars nous donnent -17772.3 euros après une réduction de 15.0 %\n"
          ]
        }
      ]
    },
    {
      "cell_type": "markdown",
      "metadata": {
        "id": "To2TYJGuPwc-"
      },
      "source": [
        "# Python : Algo 3"
      ]
    },
    {
      "cell_type": "markdown",
      "metadata": {
        "id": "B0XiM5wcQbY8"
      },
      "source": [
        "Ecris une fonction *monnaie_a_rendre()* qui prend deux arguments obligatoires :\n",
        "- montant de l'achat : float, supérieur à 0\n",
        "- monnaie du client : integer, supérieur à 0\n",
        "\n",
        "La fonction devra afficher la monnaie à rendre au client en un minimum de billets/pièces.\n",
        "\n",
        "Attention, si la monnaie du client est insuffisante (inférieure à l'achat), il faudra l'indiquer.\n",
        "\n",
        "Exemple :\n",
        "\n",
        "\n",
        "```\n",
        "monnaie_a_rendre(26.57 , 40)\n",
        ">>> Nb billets 10 euros : 1\n",
        ">>> Nb pièces 2 euros : 1\n",
        ">>> Nb pièces 1 euro : 1\n",
        ">>> Nb pièces 20 cents : 2\n",
        ">>> Nb pièces 2 cents : 1\n",
        ">>> Nb pièces 1 cent : 1\n",
        "```\n",
        "\n"
      ]
    },
    {
      "cell_type": "code",
      "source": [
        "#votre code\n",
        "def monnaie_a_rendre(montant_achat, monnaie_client):\n",
        "  if monnaie_client < montant_achat:\n",
        "    print(\"Le client n'a pas assez d'argent pour son achat\")\n",
        "    return\n",
        "\n",
        "  valeurs = [10, 2, 1, 0.20, 0.02, 0.01]\n",
        "  noms = [\"Billets de 10 €\", \"Pièces de 2 €\", \"Pièces de 1 €\", \"Pièces de 20 cents\", \"Pièces de 2 cents\", \"Pièces de 1 cent\"]\n",
        "  monnaie_a_rendre = monnaie_client - montant_achat\n",
        "  print(monnaie_a_rendre)\n",
        "\n",
        "  for valeur, nom in zip(valeurs, noms):\n",
        "    nb_billets_pieces = int(monnaie_a_rendre // valeur)\n",
        "    monnaie_a_rendre -= nb_billets_pieces * valeur\n",
        "    if nb_billets_pieces > 0:\n",
        "      print(f\"{nb_billets_pieces} {nom}\")\n",
        "\n",
        "montant_achat = float(input())\n",
        "monnaie_client = int(input())\n",
        "rendu = monnaie_a_rendre(montant_achat, monnaie_client)\n"
      ],
      "metadata": {
        "id": "tVbJCI9COwBL",
        "colab": {
          "base_uri": "https://localhost:8080/"
        },
        "outputId": "4d5a75a8-53fd-4f6b-eefc-3817442dc265"
      },
      "execution_count": 19,
      "outputs": [
        {
          "output_type": "stream",
          "name": "stdout",
          "text": [
            "276\n",
            "300\n",
            "24.0\n",
            "2 Billets de 10 €\n",
            "2 Pièces de 2 €\n"
          ]
        }
      ]
    }
  ]
}